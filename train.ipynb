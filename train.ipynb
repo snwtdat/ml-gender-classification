{
 "cells": [
  {
   "cell_type": "markdown",
   "id": "f3398702",
   "metadata": {},
   "source": [
    "# Pre-processing"
   ]
  },
  {
   "cell_type": "code",
   "execution_count": 9,
   "id": "2a27ecbb",
   "metadata": {},
   "outputs": [],
   "source": [
    "import cv2\n",
    "import os\n",
    "import numpy as np\n",
    "from tqdm import tqdm\n",
    "\n",
    "def load_and_preprocess_data(base_dir, image_size=(128, 128)):\n",
    "    X = []\n",
    "    y = []\n",
    "\n",
    "    labels = {'Male': 0, 'Female': 1}\n",
    "\n",
    "    # Dùng Haar cascade để phát hiện khuôn mặt\n",
    "    face_cascade = cv2.CascadeClassifier(cv2.data.haarcascades + 'haarcascade_frontalface_default.xml')\n",
    "\n",
    "    for label_name in ['Male', 'Female']:\n",
    "        folder = os.path.join(base_dir, label_name)\n",
    "        label = labels[label_name]\n",
    "\n",
    "        for filename in tqdm(os.listdir(folder), desc=f\"Processing {label_name}\"):\n",
    "            path = os.path.join(folder, filename)\n",
    "\n",
    "            img = cv2.imread(path)\n",
    "            if img is None:\n",
    "                continue  # Bỏ ảnh lỗi\n",
    "\n",
    "            gray = cv2.cvtColor(img, cv2.COLOR_BGR2GRAY)\n",
    "            faces = face_cascade.detectMultiScale(gray, scaleFactor=1.1, minNeighbors=4)\n",
    "\n",
    "            if len(faces) == 0:\n",
    "                continue\n",
    "\n",
    "            # Chọn khuôn mặt lớn nhất\n",
    "            (x, y_top, w, h) = sorted(faces, key=lambda b: b[2]*b[3], reverse=True)[0]\n",
    "            face = gray[y_top:y_top+h, x:x+w]\n",
    "            face_resized = cv2.resize(face, image_size)\n",
    "            face_normalized = face_resized / 255.0\n",
    "\n",
    "            X.append(face_normalized)\n",
    "            y.append(label)\n",
    "\n",
    "    X = np.array(X).reshape(-1, image_size[0], image_size[1], 1)\n",
    "    y = np.array(y)\n",
    "\n",
    "    return X, y\n"
   ]
  },
  {
   "cell_type": "code",
   "execution_count": 10,
   "id": "681dce0c",
   "metadata": {},
   "outputs": [
    {
     "name": "stderr",
     "output_type": "stream",
     "text": [
      "Processing Male: 100%|██████████| 23766/23766 [00:33<00:00, 699.03it/s]\n",
      "Processing Female: 100%|██████████| 23243/23243 [00:34<00:00, 676.51it/s]\n"
     ]
    },
    {
     "name": "stdout",
     "output_type": "stream",
     "text": [
      "Shape ảnh: (13904, 128, 128, 1)\n",
      "Shape nhãn: (13904,)\n"
     ]
    }
   ],
   "source": [
    "X, y = load_and_preprocess_data('/Users/softann/Documents/genderclassification/Training')\n",
    "print(\"Shape ảnh:\", X.shape)\n",
    "print(\"Shape nhãn:\", y.shape)\n"
   ]
  },
  {
   "cell_type": "code",
   "execution_count": 17,
   "id": "04f02ca9",
   "metadata": {},
   "outputs": [
    {
     "data": {
      "text/plain": [
       "<Figure size 1000x500 with 0 Axes>"
      ]
     },
     "execution_count": 17,
     "metadata": {},
     "output_type": "execute_result"
    },
    {
     "name": "stderr",
     "output_type": "stream",
     "text": [
      "/var/folders/mn/zctw1zfj6l914xbp3t_jry2w0000gn/T/ipykernel_3875/1809968785.py:5: FutureWarning: \n",
      "\n",
      "Passing `palette` without assigning `hue` is deprecated and will be removed in v0.14.0. Assign the `x` variable to `hue` and set `legend=False` for the same effect.\n",
      "\n",
      "  sns.countplot(x=y, palette='Set2')\n"
     ]
    },
    {
     "data": {
      "text/plain": [
       "<Axes: ylabel='count'>"
      ]
     },
     "execution_count": 17,
     "metadata": {},
     "output_type": "execute_result"
    },
    {
     "data": {
      "text/plain": [
       "([<matplotlib.axis.XTick at 0x134bd3b90>,\n",
       "  <matplotlib.axis.XTick at 0x13fbb6190>],\n",
       " [Text(0, 0, 'Male'), Text(1, 0, 'Female')])"
      ]
     },
     "execution_count": 17,
     "metadata": {},
     "output_type": "execute_result"
    },
    {
     "data": {
      "text/plain": [
       "Text(0.5, 1.0, 'Distribution of Genders')"
      ]
     },
     "execution_count": 17,
     "metadata": {},
     "output_type": "execute_result"
    },
    {
     "data": {
      "text/plain": [
       "Text(0.5, 0, 'Gender')"
      ]
     },
     "execution_count": 17,
     "metadata": {},
     "output_type": "execute_result"
    },
    {
     "data": {
      "text/plain": [
       "Text(0, 0.5, 'Count')"
      ]
     },
     "execution_count": 17,
     "metadata": {},
     "output_type": "execute_result"
    },
    {
     "data": {
      "image/png": "[encoded data removed]",
      "text/plain": [
       "<Figure size 1000x500 with 1 Axes>"
      ]
     },
     "metadata": {},
     "output_type": "display_data"
    }
   ],
   "source": [
    "import seaborn as sns\n",
    "import matplotlib.pyplot as plt\n",
    "\n",
    "plt.figure(figsize=(10, 5))\n",
    "sns.countplot(x=y, palette='Set2')\n",
    "plt.xticks(ticks=[0, 1], labels=['Male', 'Female'])  # Sửa dấu nháy bị lỗi và thiếu\n",
    "plt.title('Distribution of Genders')\n",
    "plt.xlabel('Gender')\n",
    "plt.ylabel('Count')\n",
    "plt.show()\n"
   ]
  },
  {
   "cell_type": "code",
   "execution_count": 12,
   "id": "3698a22b",
   "metadata": {},
   "outputs": [],
   "source": [
    "from sklearn.model_selection import train_test_split\n",
    "\n",
    "# Giả sử X, y đã được tạo từ hàm tiền xử lý\n",
    "X_train, X_test, y_train, y_test = train_test_split(X, y, test_size=0.2, random_state=42, stratify=y)\n",
    "\n",
    "# Nếu dùng mô hình học máy cổ điển: flatten ảnh\n",
    "X_train_flat = X_train.reshape(len(X_train), -1)\n",
    "X_test_flat = X_test.reshape(len(X_test), -1)"
   ]
  },
  {
   "cell_type": "code",
   "execution_count": 18,
   "id": "363a186a",
   "metadata": {},
   "outputs": [
    {
     "data": {
      "text/plain": [
       "<Figure size 600x400 with 0 Axes>"
      ]
     },
     "execution_count": 18,
     "metadata": {},
     "output_type": "execute_result"
    },
    {
     "name": "stderr",
     "output_type": "stream",
     "text": [
      "/var/folders/mn/zctw1zfj6l914xbp3t_jry2w0000gn/T/ipykernel_3875/599673112.py:2: FutureWarning: \n",
      "\n",
      "Passing `palette` without assigning `hue` is deprecated and will be removed in v0.14.0. Assign the `x` variable to `hue` and set `legend=False` for the same effect.\n",
      "\n",
      "  sns.countplot(x=y_test, palette='Set2')\n"
     ]
    },
    {
     "data": {
      "text/plain": [
       "<Axes: ylabel='count'>"
      ]
     },
     "execution_count": 18,
     "metadata": {},
     "output_type": "execute_result"
    },
    {
     "data": {
      "text/plain": [
       "([<matplotlib.axis.XTick at 0x1354fc890>,\n",
       "  <matplotlib.axis.XTick at 0x134b56490>],\n",
       " [Text(0, 0, 'Male'), Text(1, 0, 'Female')])"
      ]
     },
     "execution_count": 18,
     "metadata": {},
     "output_type": "execute_result"
    },
    {
     "data": {
      "text/plain": [
       "Text(0.5, 1.0, 'Test Set Gender Distribution')"
      ]
     },
     "execution_count": 18,
     "metadata": {},
     "output_type": "execute_result"
    },
    {
     "data": {
      "text/plain": [
       "Text(0.5, 0, 'Gender')"
      ]
     },
     "execution_count": 18,
     "metadata": {},
     "output_type": "execute_result"
    },
    {
     "data": {
      "text/plain": [
       "Text(0, 0.5, 'Count')"
      ]
     },
     "execution_count": 18,
     "metadata": {},
     "output_type": "execute_result"
    },
    {
     "data": {
      "image/png": "[encoded data removed]",
      "text/plain": [
       "<Figure size 600x400 with 1 Axes>"
      ]
     },
     "metadata": {},
     "output_type": "display_data"
    }
   ],
   "source": [
    "plt.figure(figsize=(6, 4))\n",
    "sns.countplot(x=y_test, palette='Set2')\n",
    "plt.xticks(ticks=[0, 1], labels=['Male', 'Female'])\n",
    "plt.title('Test Set Gender Distribution')\n",
    "plt.xlabel('Gender')\n",
    "plt.ylabel('Count')\n",
    "plt.tight_layout()\n",
    "plt.show()"
   ]
  },
  {
   "cell_type": "markdown",
   "id": "fe265d18",
   "metadata": {},
   "source": [
    "# Huấn luyện mô hình"
   ]
  },
  {
   "cell_type": "code",
   "execution_count": 14,
   "id": "b3472eeb",
   "metadata": {},
   "outputs": [],
   "source": [
    "import time\n",
    "import numpy as np\n",
    "from sklearn.pipeline import Pipeline\n",
    "from sklearn.preprocessing import StandardScaler\n",
    "from sklearn.linear_model import LogisticRegression\n",
    "from sklearn.neighbors import KNeighborsClassifier\n",
    "from sklearn.tree import DecisionTreeClassifier\n",
    "from sklearn.metrics import accuracy_score, classification_report, confusion_matrix\n",
    "import tensorflow as tf\n",
    "from tensorflow.keras.models import Sequential\n",
    "from tensorflow.keras.layers import Conv2D, MaxPooling2D, Flatten, Dense, Dropout\n",
    "\n",
    "def train_and_compare_models(X_train, X_test, y_train, y_test):\n",
    "    results = []\n",
    "\n",
    "    models = [\n",
    "        (\"Logistic Regression\", LogisticRegression(max_iter=1000)),\n",
    "        (\"KNN\", KNeighborsClassifier(n_neighbors=5)),\n",
    "        (\"Decision Tree\", DecisionTreeClassifier(max_depth=5)),\n",
    "    ]\n",
    "\n",
    "    for name, model in models:\n",
    "        print(f\"\\n🔷 {name}\")\n",
    "        pipeline = Pipeline([\n",
    "            ('scaler', StandardScaler()),\n",
    "            ('classifier', model)\n",
    "        ])\n",
    "        start = time.time()\n",
    "        pipeline.fit(X_train_flat, y_train)\n",
    "        y_pred = pipeline.predict(X_test_flat)\n",
    "        acc = accuracy_score(y_test, y_pred)\n",
    "        duration = time.time() - start\n",
    "        print(f\"Accuracy: {acc:.4f}\")\n",
    "        print(f\"Training time: {duration:.2f} s\")\n",
    "        print(\"Classification Report:\")\n",
    "        print(classification_report(y_test, y_pred))\n",
    "        print(\"Confusion Matrix:\")\n",
    "        print(confusion_matrix(y_test, y_pred))\n",
    "        results.append((name, acc, duration))\n",
    "\n",
    "    # CNN part\n",
    "    print(\"\\n🔷 Convolutional Neural Network (CNN)\")\n",
    "    start = time.time()\n",
    "    model_cnn = Sequential([\n",
    "        Conv2D(32, (3,3), activation='relu', input_shape=(128,128,1)),\n",
    "        MaxPooling2D(2,2),\n",
    "        Conv2D(64, (3,3), activation='relu'),\n",
    "        MaxPooling2D(2,2),\n",
    "        Flatten(),\n",
    "        Dense(128, activation='relu'),\n",
    "        Dropout(0.5),\n",
    "        Dense(1, activation='sigmoid')\n",
    "    ])\n",
    "    model_cnn.compile(optimizer='adam', loss='binary_crossentropy', metrics=['accuracy'])\n",
    "    model_cnn.fit(X_train, y_train, validation_data=(X_test, y_test), epochs=5, batch_size=32, verbose=1)\n",
    "    loss, acc = model_cnn.evaluate(X_test, y_test, verbose=0)\n",
    "    duration = time.time() - start\n",
    "    print(f\"Accuracy: {acc:.4f}\")\n",
    "    print(f\"Training time: {duration:.2f} s\")\n",
    "\n",
    "    y_pred_prob = model_cnn.predict(X_test)\n",
    "    y_pred_cnn = (y_pred_prob > 0.5).astype(int)\n",
    "    print(\"Classification Report:\")\n",
    "    print(classification_report(y_test, y_pred_cnn))\n",
    "    print(\"Confusion Matrix:\")\n",
    "    print(confusion_matrix(y_test, y_pred_cnn))\n",
    "\n",
    "    results.append((\"CNN\", acc, duration))\n",
    "\n"
   ]
  },
  {
   "cell_type": "code",
   "execution_count": 11,
   "id": "7e94208d",
   "metadata": {},
   "outputs": [],
   "source": [
    "from IPython.core.interactiveshell import InteractiveShell\n",
    "InteractiveShell.ast_node_interactivity = \"all\""
   ]
  },
  {
   "cell_type": "code",
   "execution_count": 15,
   "id": "96dcceec",
   "metadata": {},
   "outputs": [
    {
     "name": "stdout",
     "output_type": "stream",
     "text": [
      "\n",
      "🔷 Logistic Regression\n"
     ]
    },
    {
     "name": "stderr",
     "output_type": "stream",
     "text": [
      "/Users/softann/anaconda3/lib/python3.11/site-packages/sklearn/linear_model/_logistic.py:465: ConvergenceWarning: lbfgs failed to converge (status=1):\n",
      "STOP: TOTAL NO. of ITERATIONS REACHED LIMIT.\n",
      "\n",
      "Increase the number of iterations (max_iter) or scale the data as shown in:\n",
      "    https://scikit-learn.org/stable/modules/preprocessing.html\n",
      "Please also refer to the documentation for alternative solver options:\n",
      "    https://scikit-learn.org/stable/modules/linear_model.html#logistic-regression\n",
      "  n_iter_i = _check_optimize_result(\n"
     ]
    },
    {
     "name": "stdout",
     "output_type": "stream",
     "text": [
      "Accuracy: 0.8324\n",
      "Training time: 377.70 s\n",
      "Classification Report:\n",
      "              precision    recall  f1-score   support\n",
      "\n",
      "           0       0.83      0.82      0.82      1334\n",
      "           1       0.83      0.85      0.84      1447\n",
      "\n",
      "    accuracy                           0.83      2781\n",
      "   macro avg       0.83      0.83      0.83      2781\n",
      "weighted avg       0.83      0.83      0.83      2781\n",
      "\n",
      "Confusion Matrix:\n",
      "[[1088  246]\n",
      " [ 220 1227]]\n",
      "\n",
      "🔷 KNN\n",
      "Accuracy: 0.8749\n",
      "Training time: 8.49 s\n",
      "Classification Report:\n",
      "              precision    recall  f1-score   support\n",
      "\n",
      "           0       0.85      0.90      0.87      1334\n",
      "           1       0.90      0.85      0.88      1447\n",
      "\n",
      "    accuracy                           0.87      2781\n",
      "   macro avg       0.88      0.88      0.87      2781\n",
      "weighted avg       0.88      0.87      0.87      2781\n",
      "\n",
      "Confusion Matrix:\n",
      "[[1201  133]\n",
      " [ 215 1232]]\n",
      "\n",
      "🔷 Decision Tree\n",
      "Accuracy: 0.7422\n",
      "Training time: 43.35 s\n",
      "Classification Report:\n",
      "              precision    recall  f1-score   support\n",
      "\n",
      "           0       0.69      0.85      0.76      1334\n",
      "           1       0.83      0.64      0.72      1447\n",
      "\n",
      "    accuracy                           0.74      2781\n",
      "   macro avg       0.76      0.75      0.74      2781\n",
      "weighted avg       0.76      0.74      0.74      2781\n",
      "\n",
      "Confusion Matrix:\n",
      "[[1138  196]\n",
      " [ 521  926]]\n",
      "\n",
      "🔷 Convolutional Neural Network (CNN)\n"
     ]
    },
    {
     "name": "stderr",
     "output_type": "stream",
     "text": [
      "/Users/softann/anaconda3/lib/python3.11/site-packages/keras/src/layers/convolutional/base_conv.py:107: UserWarning: Do not pass an `input_shape`/`input_dim` argument to a layer. When using Sequential models, prefer using an `Input(shape)` object as the first layer in the model instead.\n",
      "  super().__init__(activity_regularizer=activity_regularizer, **kwargs)\n"
     ]
    },
    {
     "name": "stdout",
     "output_type": "stream",
     "text": [
      "Epoch 1/5\n",
      "\u001b[1m348/348\u001b[0m \u001b[32m━━━━━━━━━━━━━━━━━━━━\u001b[0m\u001b[37m\u001b[0m \u001b[1m46s\u001b[0m 132ms/step - accuracy: 0.7143 - loss: 0.5605 - val_accuracy: 0.8990 - val_loss: 0.2527\n",
      "Epoch 2/5\n",
      "\u001b[1m348/348\u001b[0m \u001b[32m━━━━━━━━━━━━━━━━━━━━\u001b[0m\u001b[37m\u001b[0m \u001b[1m46s\u001b[0m 131ms/step - accuracy: 0.9017 - loss: 0.2524 - val_accuracy: 0.9184 - val_loss: 0.2110\n",
      "Epoch 3/5\n",
      "\u001b[1m348/348\u001b[0m \u001b[32m━━━━━━━━━━━━━━━━━━━━\u001b[0m\u001b[37m\u001b[0m \u001b[1m44s\u001b[0m 127ms/step - accuracy: 0.9326 - loss: 0.1845 - val_accuracy: 0.9385 - val_loss: 0.1760\n",
      "Epoch 4/5\n",
      "\u001b[1m348/348\u001b[0m \u001b[32m━━━━━━━━━━━━━━━━━━━━\u001b[0m\u001b[37m\u001b[0m \u001b[1m43s\u001b[0m 125ms/step - accuracy: 0.9437 - loss: 0.1533 - val_accuracy: 0.9439 - val_loss: 0.1647\n",
      "Epoch 5/5\n",
      "\u001b[1m348/348\u001b[0m \u001b[32m━━━━━━━━━━━━━━━━━━━━\u001b[0m\u001b[37m\u001b[0m \u001b[1m44s\u001b[0m 126ms/step - accuracy: 0.9550 - loss: 0.1299 - val_accuracy: 0.9428 - val_loss: 0.1628\n",
      "Accuracy: 0.9428\n",
      "Training time: 226.69 s\n",
      "\u001b[1m87/87\u001b[0m \u001b[32m━━━━━━━━━━━━━━━━━━━━\u001b[0m\u001b[37m\u001b[0m \u001b[1m3s\u001b[0m 29ms/step\n",
      "Classification Report:\n",
      "              precision    recall  f1-score   support\n",
      "\n",
      "           0       0.95      0.93      0.94      1334\n",
      "           1       0.94      0.95      0.95      1447\n",
      "\n",
      "    accuracy                           0.94      2781\n",
      "   macro avg       0.94      0.94      0.94      2781\n",
      "weighted avg       0.94      0.94      0.94      2781\n",
      "\n",
      "Confusion Matrix:\n",
      "[[1244   90]\n",
      " [  69 1378]]\n"
     ]
    }
   ],
   "source": [
    "train_and_compare_models(X_train, X_test, y_train, y_test)"
   ]
  },
  {
   "cell_type": "code",
   "execution_count": 16,
   "id": "e999e8fc",
   "metadata": {},
   "outputs": [
    {
     "data": {
      "text/plain": [
       "<bound method Model.save of <Sequential name=sequential, built=True>>"
      ]
     },
     "execution_count": 16,
     "metadata": {},
     "output_type": "execute_result"
    }
   ],
   "source": [
    "# Lưu mô hình CNN\n",
    "model_cnn.save"
   ]
  }
 ],
 "metadata": {
  "kernelspec": {
   "display_name": "base",
   "language": "python",
   "name": "python3"
  },
  "language_info": {
   "codemirror_mode": {
    "name": "ipython",
    "version": 3
   },
   "file_extension": ".py",
   "mimetype": "text/x-python",
   "name": "python",
   "nbconvert_exporter": "python",
   "pygments_lexer": "ipython3",
   "version": "3.11.11"
  }
 },
 "nbformat": 4,
 "nbformat_minor": 5
}
