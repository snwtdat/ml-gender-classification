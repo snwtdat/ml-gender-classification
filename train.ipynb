{
 "cells": [
  {
   "cell_type": "markdown",
   "id": "f3398702",
   "metadata": {},
   "source": [
    "# Pre-processing"
   ]
  },
  {
   "cell_type": "code",
   "execution_count": 3,
   "id": "2a27ecbb",
   "metadata": {},
   "outputs": [],
   "source": [
    "import cv2\n",
    "import os\n",
    "import numpy as np\n",
    "from tqdm import tqdm\n",
    "\n",
    "def load_and_preprocess_data(base_dir, image_size=(128, 128)):\n",
    "    X = []\n",
    "    y = []\n",
    "\n",
    "    labels = {'Male': 0, 'Female': 1}\n",
    "\n",
    "    # Dùng Haar cascade để phát hiện khuôn mặt\n",
    "    face_cascade = cv2.CascadeClassifier(cv2.data.haarcascades + 'haarcascade_frontalface_default.xml')\n",
    "\n",
    "    for label_name in ['Male', 'Female']:\n",
    "        folder = os.path.join(base_dir, label_name)\n",
    "        label = labels[label_name]\n",
    "\n",
    "        for filename in tqdm(os.listdir(folder), desc=f\"Processing {label_name}\"):\n",
    "            path = os.path.join(folder, filename)\n",
    "\n",
    "            img = cv2.imread(path)\n",
    "            if img is None:\n",
    "                continue  # Bỏ ảnh lỗi\n",
    "\n",
    "            gray = cv2.cvtColor(img, cv2.COLOR_BGR2GRAY)\n",
    "            faces = face_cascade.detectMultiScale(gray, scaleFactor=1.1, minNeighbors=4)\n",
    "\n",
    "            if len(faces) == 0:\n",
    "                continue\n",
    "\n",
    "            # Chọn khuôn mặt lớn nhất\n",
    "            (x, y_top, w, h) = sorted(faces, key=lambda b: b[2]*b[3], reverse=True)[0]\n",
    "            face = gray[y_top:y_top+h, x:x+w]\n",
    "            face_resized = cv2.resize(face, image_size)\n",
    "            face_normalized = face_resized / 255.0\n",
    "\n",
    "            X.append(face_normalized)\n",
    "            y.append(label)\n",
    "\n",
    "    X = np.array(X).reshape(-1, image_size[0], image_size[1], 1)\n",
    "    y = np.array(y)\n",
    "\n",
    "    return X, y\n"
   ]
  },
  {
   "cell_type": "code",
   "execution_count": 4,
   "id": "681dce0c",
   "metadata": {},
   "outputs": [
    {
     "name": "stderr",
     "output_type": "stream",
     "text": [
      "Processing Male: 100%|██████████| 23766/23766 [00:37<00:00, 638.53it/s]\n",
      "Processing Female: 100%|██████████| 23243/23243 [00:37<00:00, 615.33it/s]\n"
     ]
    },
    {
     "name": "stdout",
     "output_type": "stream",
     "text": [
      "Shape ảnh: (13904, 128, 128, 1)\n",
      "Shape nhãn: (13904,)\n"
     ]
    }
   ],
   "source": [
    "X, y = load_and_preprocess_data('/Users/softann/Documents/genderclassification/Training')\n",
    "print(\"Shape ảnh:\", X.shape)\n",
    "print(\"Shape nhãn:\", y.shape)\n"
   ]
  },
  {
   "cell_type": "code",
   "execution_count": 5,
   "id": "3698a22b",
   "metadata": {},
   "outputs": [],
   "source": [
    "from sklearn.model_selection import train_test_split\n",
    "\n",
    "# Giả sử X, y đã được tạo từ hàm tiền xử lý\n",
    "X_train, X_test, y_train, y_test = train_test_split(\n",
    "    X, y, test_size=0.2, random_state=42, stratify=y\n",
    ")\n",
    "\n",
    "# Nếu dùng mô hình học máy cổ điển: flatten ảnh\n",
    "X_train_flat = X_train.reshape(len(X_train), -1)\n",
    "X_test_flat = X_test.reshape(len(X_test), -1)"
   ]
  },
  {
   "cell_type": "markdown",
   "id": "fe265d18",
   "metadata": {},
   "source": [
    "# Huấn luyện mô hình"
   ]
  },
  {
   "cell_type": "code",
   "execution_count": 6,
   "id": "b3472eeb",
   "metadata": {},
   "outputs": [],
   "source": [
    "import time\n",
    "from sklearn.linear_model import LogisticRegression\n",
    "from sklearn.neighbors import KNeighborsClassifier\n",
    "from sklearn.svm import SVC\n",
    "from sklearn.metrics import accuracy_score, classification_report\n",
    "import tensorflow as tf\n",
    "from tensorflow.keras.models import Sequential\n",
    "from tensorflow.keras.layers import Conv2D, MaxPooling2D, Flatten, Dense, Dropout\n",
    "\n",
    "def train_and_compare_models(X_train, X_test, y_train, y_test):\n",
    "    results = []\n",
    "\n",
    "    X_train_flat = X_train.reshape(len(X_train), -1)\n",
    "    X_test_flat = X_test.reshape(len(X_test), -1)\n",
    "\n",
    "    # 1. Logistic Regression\n",
    "    print(\"\\n🔷 Logistic Regression\")\n",
    "    start = time.time()\n",
    "    model_log = LogisticRegression(max_iter=1000)\n",
    "    model_log.fit(X_train_flat, y_train)\n",
    "    y_pred = model_log.predict(X_test_flat)\n",
    "    acc = accuracy_score(y_test, y_pred)\n",
    "    duration = time.time() - start\n",
    "    print(f\"Accuracy: {acc:.4f}\")\n",
    "    print(f\"Training time: {duration:.2f} s\")\n",
    "    print(\"Classification Report:\")\n",
    "    print(classification_report(y_test, y_pred))\n",
    "    results.append((\"Logistic Regression\", acc, duration))\n",
    "\n",
    "    # 2. KNN\n",
    "    print(\"\\n🔷 K-Nearest Neighbors\")\n",
    "    start = time.time()\n",
    "    model_knn = KNeighborsClassifier(n_neighbors=5)\n",
    "    model_knn.fit(X_train_flat, y_train)\n",
    "    y_pred = model_knn.predict(X_test_flat)\n",
    "    acc = accuracy_score(y_test, y_pred)\n",
    "    duration = time.time() - start\n",
    "    print(f\"Accuracy: {acc:.4f}\")\n",
    "    print(f\"Training time: {duration:.2f} s\")\n",
    "    print(\"Classification Report:\")\n",
    "    print(classification_report(y_test, y_pred))\n",
    "    results.append((\"KNN\", acc, duration))\n",
    "\n",
    "    # 3. SVM\n",
    "    print(\"\\n🔷 Support Vector Machine\")\n",
    "    start = time.time()\n",
    "    model_svm = SVC(kernel='linear')\n",
    "    model_svm.fit(X_train_flat, y_train)\n",
    "    y_pred = model_svm.predict(X_test_flat)\n",
    "    acc = accuracy_score(y_test, y_pred)\n",
    "    duration = time.time() - start\n",
    "    print(f\"Accuracy: {acc:.4f}\")\n",
    "    print(f\"Training time: {duration:.2f} s\")\n",
    "    print(\"Classification Report:\")\n",
    "    print(classification_report(y_test, y_pred))\n",
    "    results.append((\"SVM\", acc, duration))\n",
    "\n",
    "    # 4. CNN\n",
    "    print(\"\\n🔷 Convolutional Neural Network (CNN)\")\n",
    "    start = time.time()\n",
    "    model_cnn = Sequential([\n",
    "        Conv2D(32, (3,3), activation='relu', input_shape=(128,128,1)),\n",
    "        MaxPooling2D(2,2),\n",
    "        Conv2D(64, (3,3), activation='relu'),\n",
    "        MaxPooling2D(2,2),\n",
    "        Flatten(),\n",
    "        Dense(128, activation='relu'),\n",
    "        Dropout(0.5),\n",
    "        Dense(1, activation='sigmoid')\n",
    "    ])\n",
    "    model_cnn.compile(optimizer='adam', loss='binary_crossentropy', metrics=['accuracy'])\n",
    "    model_cnn.fit(X_train, y_train, validation_data=(X_test, y_test), epochs=5, batch_size=32, verbose=1)\n",
    "    loss, acc = model_cnn.evaluate(X_test, y_test, verbose=0)\n",
    "    duration = time.time() - start\n",
    "    print(f\"Accuracy: {acc:.4f}\")\n",
    "    print(f\"Training time: {duration:.2f} s\")\n",
    "\n",
    "    # Dự đoán để in classification report\n",
    "    y_pred_prob = model_cnn.predict(X_test)\n",
    "    y_pred_cnn = (y_pred_prob > 0.5).astype(int)\n",
    "    print(\"Classification Report:\")\n",
    "    print(classification_report(y_test, y_pred_cnn))\n",
    "\n",
    "    results.append((\"CNN\", acc, duration))\n",
    "\n",
    "    # Tổng kết bảng kết quả\n",
    "    print(\"\\n📊 BẢNG SO SÁNH KẾT QUẢ:\")\n",
    "    print(\"{:<25} | {:<10} | {:<10}\".format(\"Mô hình\", \"Accuracy\", \"Thời gian (s)\"))\n",
    "    print(\"-\" * 50)\n",
    "    for name, acc, duration in results:\n",
    "        print(\"{:<25} | {:.4f}     | {:.2f}\".format(name, acc, duration))\n"
   ]
  },
  {
   "cell_type": "code",
   "execution_count": 7,
   "id": "7e94208d",
   "metadata": {},
   "outputs": [],
   "source": [
    "from IPython.core.interactiveshell import InteractiveShell\n",
    "InteractiveShell.ast_node_interactivity = \"all\""
   ]
  },
  {
   "cell_type": "code",
   "execution_count": null,
   "id": "96dcceec",
   "metadata": {},
   "outputs": [
    {
     "name": "stdout",
     "output_type": "stream",
     "text": [
      "\n",
      "🔷 Logistic Regression\n",
      "Accuracy: 0.8788\n",
      "Training time: 389.45 s\n",
      "Classification Report:\n",
      "              precision    recall  f1-score   support\n",
      "\n",
      "           0       0.88      0.87      0.87      1334\n",
      "           1       0.88      0.89      0.88      1447\n",
      "\n",
      "    accuracy                           0.88      2781\n",
      "   macro avg       0.88      0.88      0.88      2781\n",
      "weighted avg       0.88      0.88      0.88      2781\n",
      "\n",
      "\n",
      "🔷 K-Nearest Neighbors\n",
      "Accuracy: 0.8688\n",
      "Training time: 6.84 s\n",
      "Classification Report:\n",
      "              precision    recall  f1-score   support\n",
      "\n",
      "           0       0.83      0.91      0.87      1334\n",
      "           1       0.91      0.83      0.87      1447\n",
      "\n",
      "    accuracy                           0.87      2781\n",
      "   macro avg       0.87      0.87      0.87      2781\n",
      "weighted avg       0.87      0.87      0.87      2781\n",
      "\n",
      "\n",
      "🔷 Support Vector Machine\n",
      "Accuracy: 0.8587\n",
      "Training time: 839.57 s\n",
      "Classification Report:\n",
      "              precision    recall  f1-score   support\n",
      "\n",
      "           0       0.86      0.85      0.85      1334\n",
      "           1       0.86      0.87      0.86      1447\n",
      "\n",
      "    accuracy                           0.86      2781\n",
      "   macro avg       0.86      0.86      0.86      2781\n",
      "weighted avg       0.86      0.86      0.86      2781\n",
      "\n",
      "\n",
      "🔷 Convolutional Neural Network (CNN)\n"
     ]
    },
    {
     "name": "stderr",
     "output_type": "stream",
     "text": [
      "/Users/softann/anaconda3/lib/python3.11/site-packages/keras/src/layers/convolutional/base_conv.py:107: UserWarning: Do not pass an `input_shape`/`input_dim` argument to a layer. When using Sequential models, prefer using an `Input(shape)` object as the first layer in the model instead.\n",
      "  super().__init__(activity_regularizer=activity_regularizer, **kwargs)\n"
     ]
    },
    {
     "name": "stdout",
     "output_type": "stream",
     "text": [
      "Epoch 1/5\n",
      "\u001b[1m348/348\u001b[0m \u001b[32m━━━━━━━━━━━━━━━━━━━━\u001b[0m\u001b[37m\u001b[0m \u001b[1m47s\u001b[0m 133ms/step - accuracy: 0.6951 - loss: 0.5851 - val_accuracy: 0.9148 - val_loss: 0.2265\n",
      "Epoch 2/5\n",
      "\u001b[1m348/348\u001b[0m \u001b[32m━━━━━━━━━━━━━━━━━━━━\u001b[0m\u001b[37m\u001b[0m \u001b[1m46s\u001b[0m 131ms/step - accuracy: 0.9062 - loss: 0.2439 - val_accuracy: 0.9292 - val_loss: 0.1880\n",
      "Epoch 3/5\n",
      "\u001b[1m348/348\u001b[0m \u001b[32m━━━━━━━━━━━━━━━━━━━━\u001b[0m\u001b[37m\u001b[0m \u001b[1m46s\u001b[0m 131ms/step - accuracy: 0.9285 - loss: 0.1980 - val_accuracy: 0.9396 - val_loss: 0.1763\n",
      "Epoch 4/5\n",
      "\u001b[1m348/348\u001b[0m \u001b[32m━━━━━━━━━━━━━━━━━━━━\u001b[0m\u001b[37m\u001b[0m \u001b[1m46s\u001b[0m 132ms/step - accuracy: 0.9463 - loss: 0.1546 - val_accuracy: 0.9457 - val_loss: 0.1548\n",
      "Epoch 5/5\n",
      "\u001b[1m348/348\u001b[0m \u001b[32m━━━━━━━━━━━━━━━━━━━━\u001b[0m\u001b[37m\u001b[0m \u001b[1m47s\u001b[0m 134ms/step - accuracy: 0.9510 - loss: 0.1385 - val_accuracy: 0.9479 - val_loss: 0.1484\n",
      "Accuracy: 0.9479\n",
      "Training time: 234.41 s\n",
      "\u001b[1m87/87\u001b[0m \u001b[32m━━━━━━━━━━━━━━━━━━━━\u001b[0m\u001b[37m\u001b[0m \u001b[1m3s\u001b[0m 31ms/step\n",
      "Classification Report:\n",
      "              precision    recall  f1-score   support\n",
      "\n",
      "           0       0.94      0.95      0.95      1334\n",
      "           1       0.95      0.95      0.95      1447\n",
      "\n",
      "    accuracy                           0.95      2781\n",
      "   macro avg       0.95      0.95      0.95      2781\n",
      "weighted avg       0.95      0.95      0.95      2781\n",
      "\n",
      "\n",
      "📊 BẢNG SO SÁNH KẾT QUẢ:\n",
      "Mô hình                   | Accuracy   | Thời gian (s)\n",
      "--------------------------------------------------\n",
      "Logistic Regression       | 0.8788     | 389.45\n",
      "KNN                       | 0.8688     | 6.84\n",
      "SVM                       | 0.8587     | 839.57\n",
      "CNN                       | 0.9479     | 234.41\n"
     ]
    }
   ],
   "source": [
    "train_and_compare_models(X_train, X_test, y_train, y_test)"
   ]
  },
  {
   "cell_type": "code",
   "execution_count": 12,
   "id": "7f4ea1d9",
   "metadata": {},
   "outputs": [
    {
     "name": "stdout",
     "output_type": "stream",
     "text": [
      "Epoch 1/5\n",
      "\u001b[1m348/348\u001b[0m \u001b[32m━━━━━━━━━━━━━━━━━━━━\u001b[0m\u001b[37m\u001b[0m \u001b[1m47s\u001b[0m 133ms/step - accuracy: 0.7025 - loss: 0.5824 - val_accuracy: 0.8910 - val_loss: 0.2838\n",
      "Epoch 2/5\n",
      "\u001b[1m348/348\u001b[0m \u001b[32m━━━━━━━━━━━━━━━━━━━━\u001b[0m\u001b[37m\u001b[0m \u001b[1m48s\u001b[0m 139ms/step - accuracy: 0.8922 - loss: 0.2700 - val_accuracy: 0.9180 - val_loss: 0.2224\n",
      "Epoch 3/5\n",
      "\u001b[1m348/348\u001b[0m \u001b[32m━━━━━━━━━━━━━━━━━━━━\u001b[0m\u001b[37m\u001b[0m \u001b[1m46s\u001b[0m 131ms/step - accuracy: 0.9200 - loss: 0.2098 - val_accuracy: 0.9302 - val_loss: 0.2000\n",
      "Epoch 4/5\n",
      "\u001b[1m348/348\u001b[0m \u001b[32m━━━━━━━━━━━━━━━━━━━━\u001b[0m\u001b[37m\u001b[0m \u001b[1m46s\u001b[0m 131ms/step - accuracy: 0.9337 - loss: 0.1748 - val_accuracy: 0.9443 - val_loss: 0.1713\n",
      "Epoch 5/5\n",
      "\u001b[1m348/348\u001b[0m \u001b[32m━━━━━━━━━━━━━━━━━━━━\u001b[0m\u001b[37m\u001b[0m \u001b[1m45s\u001b[0m 129ms/step - accuracy: 0.9432 - loss: 0.1518 - val_accuracy: 0.9443 - val_loss: 0.1640\n"
     ]
    },
    {
     "data": {
      "text/plain": [
       "<keras.src.callbacks.history.History at 0x4846fb750>"
      ]
     },
     "execution_count": 12,
     "metadata": {},
     "output_type": "execute_result"
    },
    {
     "name": "stderr",
     "output_type": "stream",
     "text": [
      "WARNING:absl:You are saving your model as an HDF5 file via `model.save()` or `keras.saving.save_model(model)`. This file format is considered legacy. We recommend using instead the native Keras format, e.g. `model.save('my_model.keras')` or `keras.saving.save_model(model, 'my_model.keras')`. \n"
     ]
    },
    {
     "name": "stdout",
     "output_type": "stream",
     "text": [
      "Accuracy: 0.9443\n"
     ]
    }
   ],
   "source": [
    "model_cnn = Sequential([\n",
    "        Conv2D(32, (3,3), activation='relu', input_shape=(128,128,1)),\n",
    "        MaxPooling2D(2,2),\n",
    "        Conv2D(64, (3,3), activation='relu'),\n",
    "        MaxPooling2D(2,2),\n",
    "        Flatten(),\n",
    "        Dense(128, activation='relu'),\n",
    "        Dropout(0.5),\n",
    "        Dense(1, activation='sigmoid')\n",
    "    ])\n",
    "model_cnn.compile(optimizer='adam', loss='binary_crossentropy', metrics=['accuracy'])\n",
    "model_cnn.fit(X_train, y_train, validation_data=(X_test, y_test), epochs=5, batch_size=32, verbose=1)\n",
    "\n",
    "loss, acc = model_cnn.evaluate(X_test, y_test, verbose=0)\n",
    "print(f\"Accuracy: {acc:.4f}\")\n",
    "model_cnn.save(\"cnn_model.h5\")"
   ]
  }
 ],
 "metadata": {
  "kernelspec": {
   "display_name": "base",
   "language": "python",
   "name": "python3"
  },
  "language_info": {
   "codemirror_mode": {
    "name": "ipython",
    "version": 3
   },
   "file_extension": ".py",
   "mimetype": "text/x-python",
   "name": "python",
   "nbconvert_exporter": "python",
   "pygments_lexer": "ipython3",
   "version": "3.11.11"
  }
 },
 "nbformat": 4,
 "nbformat_minor": 5
}
